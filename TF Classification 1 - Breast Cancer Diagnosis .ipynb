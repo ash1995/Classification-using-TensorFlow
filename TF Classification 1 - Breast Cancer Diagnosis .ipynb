{
 "cells": [
  {
   "cell_type": "markdown",
   "metadata": {},
   "source": [
    "# Breast Cancer Diagnosis using TensorFlow"
   ]
  },
  {
   "cell_type": "markdown",
   "metadata": {},
   "source": [
    "**Objective**: To classify a tumor as benign or malignant <br>\n",
    "**Dataset used**: Wisconsin Diagnostic Breast Cancer dataset"
   ]
  },
  {
   "cell_type": "markdown",
   "metadata": {},
   "source": [
    "### About the Dataset"
   ]
  },
  {
   "cell_type": "markdown",
   "metadata": {},
   "source": [
    "The dataset was obtained by researchers at the University of Wisconsin by applying computer vision techniques to isolate\n",
    "healthy and cancerous nuclei from images of FNA (Fine Needle Aspirate) biopsies. From these biposies, the following 10 features of each of the 3 nuclei were then extracted: radius, perimeter, area, compactness, smoothness, concavity, concave points, symmetry, fractal dimension, and texture. This data was tabulated for each of the 569 patients. In addition to the 30 features, the dataset also contains the ID Number and Diagnosis of the patient, yielding a database of 569 samples x 32 features."
   ]
  },
  {
   "cell_type": "code",
   "execution_count": 1,
   "metadata": {},
   "outputs": [
    {
     "name": "stderr",
     "output_type": "stream",
     "text": [
      "C:\\Users\\ash19\\Anaconda3\\lib\\site-packages\\h5py\\__init__.py:34: FutureWarning: Conversion of the second argument of issubdtype from `float` to `np.floating` is deprecated. In future, it will be treated as `np.float64 == np.dtype(float).type`.\n",
      "  from ._conv import register_converters as _register_converters\n"
     ]
    }
   ],
   "source": [
    "import tensorflow as tf\n",
    "import pandas as pd\n",
    "import numpy as np"
   ]
  },
  {
   "cell_type": "code",
   "execution_count": 2,
   "metadata": {},
   "outputs": [],
   "source": [
    "df = pd.read_csv(\"Datasets/Diagnosis_Breast_Cancer.csv\")"
   ]
  },
  {
   "cell_type": "code",
   "execution_count": 3,
   "metadata": {},
   "outputs": [
    {
     "data": {
      "text/html": [
       "<div>\n",
       "<style scoped>\n",
       "    .dataframe tbody tr th:only-of-type {\n",
       "        vertical-align: middle;\n",
       "    }\n",
       "\n",
       "    .dataframe tbody tr th {\n",
       "        vertical-align: top;\n",
       "    }\n",
       "\n",
       "    .dataframe thead th {\n",
       "        text-align: right;\n",
       "    }\n",
       "</style>\n",
       "<table border=\"1\" class=\"dataframe\">\n",
       "  <thead>\n",
       "    <tr style=\"text-align: right;\">\n",
       "      <th></th>\n",
       "      <th>Column1</th>\n",
       "      <th>Column2</th>\n",
       "      <th>Column3</th>\n",
       "      <th>Column4</th>\n",
       "      <th>Column5</th>\n",
       "      <th>Column6</th>\n",
       "      <th>Column7</th>\n",
       "      <th>Column8</th>\n",
       "      <th>Column9</th>\n",
       "      <th>Column10</th>\n",
       "      <th>...</th>\n",
       "      <th>Column23</th>\n",
       "      <th>Column24</th>\n",
       "      <th>Column25</th>\n",
       "      <th>Column26</th>\n",
       "      <th>Column27</th>\n",
       "      <th>Column28</th>\n",
       "      <th>Column29</th>\n",
       "      <th>Column30</th>\n",
       "      <th>Column31</th>\n",
       "      <th>Column32</th>\n",
       "    </tr>\n",
       "  </thead>\n",
       "  <tbody>\n",
       "    <tr>\n",
       "      <th>0</th>\n",
       "      <td>842302</td>\n",
       "      <td>M</td>\n",
       "      <td>17.99</td>\n",
       "      <td>10.38</td>\n",
       "      <td>122.80</td>\n",
       "      <td>1001.0</td>\n",
       "      <td>0.11840</td>\n",
       "      <td>0.27760</td>\n",
       "      <td>0.3001</td>\n",
       "      <td>0.14710</td>\n",
       "      <td>...</td>\n",
       "      <td>25.38</td>\n",
       "      <td>17.33</td>\n",
       "      <td>184.60</td>\n",
       "      <td>2019.0</td>\n",
       "      <td>0.1622</td>\n",
       "      <td>0.6656</td>\n",
       "      <td>0.7119</td>\n",
       "      <td>0.2654</td>\n",
       "      <td>0.4601</td>\n",
       "      <td>0.11890</td>\n",
       "    </tr>\n",
       "    <tr>\n",
       "      <th>1</th>\n",
       "      <td>842517</td>\n",
       "      <td>M</td>\n",
       "      <td>20.57</td>\n",
       "      <td>17.77</td>\n",
       "      <td>132.90</td>\n",
       "      <td>1326.0</td>\n",
       "      <td>0.08474</td>\n",
       "      <td>0.07864</td>\n",
       "      <td>0.0869</td>\n",
       "      <td>0.07017</td>\n",
       "      <td>...</td>\n",
       "      <td>24.99</td>\n",
       "      <td>23.41</td>\n",
       "      <td>158.80</td>\n",
       "      <td>1956.0</td>\n",
       "      <td>0.1238</td>\n",
       "      <td>0.1866</td>\n",
       "      <td>0.2416</td>\n",
       "      <td>0.1860</td>\n",
       "      <td>0.2750</td>\n",
       "      <td>0.08902</td>\n",
       "    </tr>\n",
       "    <tr>\n",
       "      <th>2</th>\n",
       "      <td>84300903</td>\n",
       "      <td>M</td>\n",
       "      <td>19.69</td>\n",
       "      <td>21.25</td>\n",
       "      <td>130.00</td>\n",
       "      <td>1203.0</td>\n",
       "      <td>0.10960</td>\n",
       "      <td>0.15990</td>\n",
       "      <td>0.1974</td>\n",
       "      <td>0.12790</td>\n",
       "      <td>...</td>\n",
       "      <td>23.57</td>\n",
       "      <td>25.53</td>\n",
       "      <td>152.50</td>\n",
       "      <td>1709.0</td>\n",
       "      <td>0.1444</td>\n",
       "      <td>0.4245</td>\n",
       "      <td>0.4504</td>\n",
       "      <td>0.2430</td>\n",
       "      <td>0.3613</td>\n",
       "      <td>0.08758</td>\n",
       "    </tr>\n",
       "    <tr>\n",
       "      <th>3</th>\n",
       "      <td>84348301</td>\n",
       "      <td>M</td>\n",
       "      <td>11.42</td>\n",
       "      <td>20.38</td>\n",
       "      <td>77.58</td>\n",
       "      <td>386.1</td>\n",
       "      <td>0.14250</td>\n",
       "      <td>0.28390</td>\n",
       "      <td>0.2414</td>\n",
       "      <td>0.10520</td>\n",
       "      <td>...</td>\n",
       "      <td>14.91</td>\n",
       "      <td>26.50</td>\n",
       "      <td>98.87</td>\n",
       "      <td>567.7</td>\n",
       "      <td>0.2098</td>\n",
       "      <td>0.8663</td>\n",
       "      <td>0.6869</td>\n",
       "      <td>0.2575</td>\n",
       "      <td>0.6638</td>\n",
       "      <td>0.17300</td>\n",
       "    </tr>\n",
       "    <tr>\n",
       "      <th>4</th>\n",
       "      <td>84358402</td>\n",
       "      <td>M</td>\n",
       "      <td>20.29</td>\n",
       "      <td>14.34</td>\n",
       "      <td>135.10</td>\n",
       "      <td>1297.0</td>\n",
       "      <td>0.10030</td>\n",
       "      <td>0.13280</td>\n",
       "      <td>0.1980</td>\n",
       "      <td>0.10430</td>\n",
       "      <td>...</td>\n",
       "      <td>22.54</td>\n",
       "      <td>16.67</td>\n",
       "      <td>152.20</td>\n",
       "      <td>1575.0</td>\n",
       "      <td>0.1374</td>\n",
       "      <td>0.2050</td>\n",
       "      <td>0.4000</td>\n",
       "      <td>0.1625</td>\n",
       "      <td>0.2364</td>\n",
       "      <td>0.07678</td>\n",
       "    </tr>\n",
       "  </tbody>\n",
       "</table>\n",
       "<p>5 rows × 32 columns</p>\n",
       "</div>"
      ],
      "text/plain": [
       "    Column1 Column2  Column3  Column4  Column5  Column6  Column7  Column8  \\\n",
       "0    842302       M    17.99    10.38   122.80   1001.0  0.11840  0.27760   \n",
       "1    842517       M    20.57    17.77   132.90   1326.0  0.08474  0.07864   \n",
       "2  84300903       M    19.69    21.25   130.00   1203.0  0.10960  0.15990   \n",
       "3  84348301       M    11.42    20.38    77.58    386.1  0.14250  0.28390   \n",
       "4  84358402       M    20.29    14.34   135.10   1297.0  0.10030  0.13280   \n",
       "\n",
       "   Column9  Column10    ...     Column23  Column24  Column25  Column26  \\\n",
       "0   0.3001   0.14710    ...        25.38     17.33    184.60    2019.0   \n",
       "1   0.0869   0.07017    ...        24.99     23.41    158.80    1956.0   \n",
       "2   0.1974   0.12790    ...        23.57     25.53    152.50    1709.0   \n",
       "3   0.2414   0.10520    ...        14.91     26.50     98.87     567.7   \n",
       "4   0.1980   0.10430    ...        22.54     16.67    152.20    1575.0   \n",
       "\n",
       "   Column27  Column28  Column29  Column30  Column31  Column32  \n",
       "0    0.1622    0.6656    0.7119    0.2654    0.4601   0.11890  \n",
       "1    0.1238    0.1866    0.2416    0.1860    0.2750   0.08902  \n",
       "2    0.1444    0.4245    0.4504    0.2430    0.3613   0.08758  \n",
       "3    0.2098    0.8663    0.6869    0.2575    0.6638   0.17300  \n",
       "4    0.1374    0.2050    0.4000    0.1625    0.2364   0.07678  \n",
       "\n",
       "[5 rows x 32 columns]"
      ]
     },
     "execution_count": 3,
     "metadata": {},
     "output_type": "execute_result"
    }
   ],
   "source": [
    "df.head()"
   ]
  },
  {
   "cell_type": "markdown",
   "metadata": {},
   "source": [
    "### Labelling Columns"
   ]
  },
  {
   "cell_type": "code",
   "execution_count": 4,
   "metadata": {},
   "outputs": [],
   "source": [
    "df.rename(columns={'Column1': 'ID No', \n",
    "                   'Column2': 'Diagnosis',\n",
    "                   'Column3': 'Radius1',\n",
    "                   'Column4': 'Texture1',\n",
    "                   'Column5': 'Perimeter1',\n",
    "                   'Column6': 'Area1',\n",
    "                   'Column7': 'Smoothness1',\n",
    "                   'Column8': 'Compactness1',\n",
    "                   'Column9': 'Concavity1',\n",
    "                   'Column10': 'ConcavePoints1',\n",
    "                   'Column11': 'Symmetry1',\n",
    "                   'Column12': 'FractalDim1',\n",
    "                   'Column13': 'Radius2',\n",
    "                   'Column14': 'Texture2',\n",
    "                   'Column15': 'Perimeter2',\n",
    "                   'Column16': 'Area2',\n",
    "                   'Column17': 'Smoothness2',\n",
    "                   'Column18': 'Compactness2',\n",
    "                   'Column19': 'Concavity2',\n",
    "                   'Column20': 'ConcavePoints2',\n",
    "                   'Column21': 'Symmetry2',\n",
    "                   'Column22': 'FractalDim2',\n",
    "                   'Column23': 'Radius3',\n",
    "                   'Column24': 'Texture3',\n",
    "                   'Column25': 'Perimeter3',\n",
    "                   'Column26': 'Area3',\n",
    "                   'Column27': 'Smoothness3',\n",
    "                   'Column28': 'Compactness3',\n",
    "                   'Column29': 'Concavity3',\n",
    "                   'Column30': 'ConcavePoints3',\n",
    "                   'Column31': 'Symmetry3',\n",
    "                   'Column32': 'FractalDim3'},inplace=True)"
   ]
  },
  {
   "cell_type": "code",
   "execution_count": 5,
   "metadata": {},
   "outputs": [
    {
     "data": {
      "text/html": [
       "<div>\n",
       "<style scoped>\n",
       "    .dataframe tbody tr th:only-of-type {\n",
       "        vertical-align: middle;\n",
       "    }\n",
       "\n",
       "    .dataframe tbody tr th {\n",
       "        vertical-align: top;\n",
       "    }\n",
       "\n",
       "    .dataframe thead th {\n",
       "        text-align: right;\n",
       "    }\n",
       "</style>\n",
       "<table border=\"1\" class=\"dataframe\">\n",
       "  <thead>\n",
       "    <tr style=\"text-align: right;\">\n",
       "      <th></th>\n",
       "      <th>ID No</th>\n",
       "      <th>Diagnosis</th>\n",
       "      <th>Radius1</th>\n",
       "      <th>Texture1</th>\n",
       "      <th>Perimeter1</th>\n",
       "      <th>Area1</th>\n",
       "      <th>Smoothness1</th>\n",
       "      <th>Compactness1</th>\n",
       "      <th>Concavity1</th>\n",
       "      <th>ConcavePoints1</th>\n",
       "      <th>...</th>\n",
       "      <th>Radius3</th>\n",
       "      <th>Texture3</th>\n",
       "      <th>Perimeter3</th>\n",
       "      <th>Area3</th>\n",
       "      <th>Smoothness3</th>\n",
       "      <th>Compactness3</th>\n",
       "      <th>Concavity3</th>\n",
       "      <th>ConcavePoints3</th>\n",
       "      <th>Symmetry3</th>\n",
       "      <th>FractalDim3</th>\n",
       "    </tr>\n",
       "  </thead>\n",
       "  <tbody>\n",
       "    <tr>\n",
       "      <th>0</th>\n",
       "      <td>842302</td>\n",
       "      <td>M</td>\n",
       "      <td>17.99</td>\n",
       "      <td>10.38</td>\n",
       "      <td>122.80</td>\n",
       "      <td>1001.0</td>\n",
       "      <td>0.11840</td>\n",
       "      <td>0.27760</td>\n",
       "      <td>0.3001</td>\n",
       "      <td>0.14710</td>\n",
       "      <td>...</td>\n",
       "      <td>25.38</td>\n",
       "      <td>17.33</td>\n",
       "      <td>184.60</td>\n",
       "      <td>2019.0</td>\n",
       "      <td>0.1622</td>\n",
       "      <td>0.6656</td>\n",
       "      <td>0.7119</td>\n",
       "      <td>0.2654</td>\n",
       "      <td>0.4601</td>\n",
       "      <td>0.11890</td>\n",
       "    </tr>\n",
       "    <tr>\n",
       "      <th>1</th>\n",
       "      <td>842517</td>\n",
       "      <td>M</td>\n",
       "      <td>20.57</td>\n",
       "      <td>17.77</td>\n",
       "      <td>132.90</td>\n",
       "      <td>1326.0</td>\n",
       "      <td>0.08474</td>\n",
       "      <td>0.07864</td>\n",
       "      <td>0.0869</td>\n",
       "      <td>0.07017</td>\n",
       "      <td>...</td>\n",
       "      <td>24.99</td>\n",
       "      <td>23.41</td>\n",
       "      <td>158.80</td>\n",
       "      <td>1956.0</td>\n",
       "      <td>0.1238</td>\n",
       "      <td>0.1866</td>\n",
       "      <td>0.2416</td>\n",
       "      <td>0.1860</td>\n",
       "      <td>0.2750</td>\n",
       "      <td>0.08902</td>\n",
       "    </tr>\n",
       "    <tr>\n",
       "      <th>2</th>\n",
       "      <td>84300903</td>\n",
       "      <td>M</td>\n",
       "      <td>19.69</td>\n",
       "      <td>21.25</td>\n",
       "      <td>130.00</td>\n",
       "      <td>1203.0</td>\n",
       "      <td>0.10960</td>\n",
       "      <td>0.15990</td>\n",
       "      <td>0.1974</td>\n",
       "      <td>0.12790</td>\n",
       "      <td>...</td>\n",
       "      <td>23.57</td>\n",
       "      <td>25.53</td>\n",
       "      <td>152.50</td>\n",
       "      <td>1709.0</td>\n",
       "      <td>0.1444</td>\n",
       "      <td>0.4245</td>\n",
       "      <td>0.4504</td>\n",
       "      <td>0.2430</td>\n",
       "      <td>0.3613</td>\n",
       "      <td>0.08758</td>\n",
       "    </tr>\n",
       "    <tr>\n",
       "      <th>3</th>\n",
       "      <td>84348301</td>\n",
       "      <td>M</td>\n",
       "      <td>11.42</td>\n",
       "      <td>20.38</td>\n",
       "      <td>77.58</td>\n",
       "      <td>386.1</td>\n",
       "      <td>0.14250</td>\n",
       "      <td>0.28390</td>\n",
       "      <td>0.2414</td>\n",
       "      <td>0.10520</td>\n",
       "      <td>...</td>\n",
       "      <td>14.91</td>\n",
       "      <td>26.50</td>\n",
       "      <td>98.87</td>\n",
       "      <td>567.7</td>\n",
       "      <td>0.2098</td>\n",
       "      <td>0.8663</td>\n",
       "      <td>0.6869</td>\n",
       "      <td>0.2575</td>\n",
       "      <td>0.6638</td>\n",
       "      <td>0.17300</td>\n",
       "    </tr>\n",
       "    <tr>\n",
       "      <th>4</th>\n",
       "      <td>84358402</td>\n",
       "      <td>M</td>\n",
       "      <td>20.29</td>\n",
       "      <td>14.34</td>\n",
       "      <td>135.10</td>\n",
       "      <td>1297.0</td>\n",
       "      <td>0.10030</td>\n",
       "      <td>0.13280</td>\n",
       "      <td>0.1980</td>\n",
       "      <td>0.10430</td>\n",
       "      <td>...</td>\n",
       "      <td>22.54</td>\n",
       "      <td>16.67</td>\n",
       "      <td>152.20</td>\n",
       "      <td>1575.0</td>\n",
       "      <td>0.1374</td>\n",
       "      <td>0.2050</td>\n",
       "      <td>0.4000</td>\n",
       "      <td>0.1625</td>\n",
       "      <td>0.2364</td>\n",
       "      <td>0.07678</td>\n",
       "    </tr>\n",
       "  </tbody>\n",
       "</table>\n",
       "<p>5 rows × 32 columns</p>\n",
       "</div>"
      ],
      "text/plain": [
       "      ID No Diagnosis  Radius1  Texture1  Perimeter1   Area1  Smoothness1  \\\n",
       "0    842302         M    17.99     10.38      122.80  1001.0      0.11840   \n",
       "1    842517         M    20.57     17.77      132.90  1326.0      0.08474   \n",
       "2  84300903         M    19.69     21.25      130.00  1203.0      0.10960   \n",
       "3  84348301         M    11.42     20.38       77.58   386.1      0.14250   \n",
       "4  84358402         M    20.29     14.34      135.10  1297.0      0.10030   \n",
       "\n",
       "   Compactness1  Concavity1  ConcavePoints1     ...       Radius3  Texture3  \\\n",
       "0       0.27760      0.3001         0.14710     ...         25.38     17.33   \n",
       "1       0.07864      0.0869         0.07017     ...         24.99     23.41   \n",
       "2       0.15990      0.1974         0.12790     ...         23.57     25.53   \n",
       "3       0.28390      0.2414         0.10520     ...         14.91     26.50   \n",
       "4       0.13280      0.1980         0.10430     ...         22.54     16.67   \n",
       "\n",
       "   Perimeter3   Area3  Smoothness3  Compactness3  Concavity3  ConcavePoints3  \\\n",
       "0      184.60  2019.0       0.1622        0.6656      0.7119          0.2654   \n",
       "1      158.80  1956.0       0.1238        0.1866      0.2416          0.1860   \n",
       "2      152.50  1709.0       0.1444        0.4245      0.4504          0.2430   \n",
       "3       98.87   567.7       0.2098        0.8663      0.6869          0.2575   \n",
       "4      152.20  1575.0       0.1374        0.2050      0.4000          0.1625   \n",
       "\n",
       "   Symmetry3  FractalDim3  \n",
       "0     0.4601      0.11890  \n",
       "1     0.2750      0.08902  \n",
       "2     0.3613      0.08758  \n",
       "3     0.6638      0.17300  \n",
       "4     0.2364      0.07678  \n",
       "\n",
       "[5 rows x 32 columns]"
      ]
     },
     "execution_count": 5,
     "metadata": {},
     "output_type": "execute_result"
    }
   ],
   "source": [
    "df.head()"
   ]
  },
  {
   "cell_type": "code",
   "execution_count": 6,
   "metadata": {},
   "outputs": [
    {
     "data": {
      "text/plain": [
       "array(['M', 'B'], dtype=object)"
      ]
     },
     "execution_count": 6,
     "metadata": {},
     "output_type": "execute_result"
    }
   ],
   "source": [
    "df['Diagnosis'].unique()"
   ]
  },
  {
   "cell_type": "markdown",
   "metadata": {},
   "source": [
    "If tumor is malignant, it is denoted as '1' and if it is benign it is denoted as '0'"
   ]
  },
  {
   "cell_type": "code",
   "execution_count": 7,
   "metadata": {},
   "outputs": [],
   "source": [
    "df['Diagnosis'] = df['Diagnosis'].apply(lambda x: 0 if x=='B' else 1)"
   ]
  },
  {
   "cell_type": "code",
   "execution_count": 8,
   "metadata": {},
   "outputs": [
    {
     "data": {
      "text/html": [
       "<div>\n",
       "<style scoped>\n",
       "    .dataframe tbody tr th:only-of-type {\n",
       "        vertical-align: middle;\n",
       "    }\n",
       "\n",
       "    .dataframe tbody tr th {\n",
       "        vertical-align: top;\n",
       "    }\n",
       "\n",
       "    .dataframe thead th {\n",
       "        text-align: right;\n",
       "    }\n",
       "</style>\n",
       "<table border=\"1\" class=\"dataframe\">\n",
       "  <thead>\n",
       "    <tr style=\"text-align: right;\">\n",
       "      <th></th>\n",
       "      <th>ID No</th>\n",
       "      <th>Diagnosis</th>\n",
       "      <th>Radius1</th>\n",
       "      <th>Texture1</th>\n",
       "      <th>Perimeter1</th>\n",
       "      <th>Area1</th>\n",
       "      <th>Smoothness1</th>\n",
       "      <th>Compactness1</th>\n",
       "      <th>Concavity1</th>\n",
       "      <th>ConcavePoints1</th>\n",
       "      <th>...</th>\n",
       "      <th>Radius3</th>\n",
       "      <th>Texture3</th>\n",
       "      <th>Perimeter3</th>\n",
       "      <th>Area3</th>\n",
       "      <th>Smoothness3</th>\n",
       "      <th>Compactness3</th>\n",
       "      <th>Concavity3</th>\n",
       "      <th>ConcavePoints3</th>\n",
       "      <th>Symmetry3</th>\n",
       "      <th>FractalDim3</th>\n",
       "    </tr>\n",
       "  </thead>\n",
       "  <tbody>\n",
       "    <tr>\n",
       "      <th>0</th>\n",
       "      <td>842302</td>\n",
       "      <td>1</td>\n",
       "      <td>17.99</td>\n",
       "      <td>10.38</td>\n",
       "      <td>122.80</td>\n",
       "      <td>1001.0</td>\n",
       "      <td>0.11840</td>\n",
       "      <td>0.27760</td>\n",
       "      <td>0.3001</td>\n",
       "      <td>0.14710</td>\n",
       "      <td>...</td>\n",
       "      <td>25.38</td>\n",
       "      <td>17.33</td>\n",
       "      <td>184.60</td>\n",
       "      <td>2019.0</td>\n",
       "      <td>0.1622</td>\n",
       "      <td>0.6656</td>\n",
       "      <td>0.7119</td>\n",
       "      <td>0.2654</td>\n",
       "      <td>0.4601</td>\n",
       "      <td>0.11890</td>\n",
       "    </tr>\n",
       "    <tr>\n",
       "      <th>1</th>\n",
       "      <td>842517</td>\n",
       "      <td>1</td>\n",
       "      <td>20.57</td>\n",
       "      <td>17.77</td>\n",
       "      <td>132.90</td>\n",
       "      <td>1326.0</td>\n",
       "      <td>0.08474</td>\n",
       "      <td>0.07864</td>\n",
       "      <td>0.0869</td>\n",
       "      <td>0.07017</td>\n",
       "      <td>...</td>\n",
       "      <td>24.99</td>\n",
       "      <td>23.41</td>\n",
       "      <td>158.80</td>\n",
       "      <td>1956.0</td>\n",
       "      <td>0.1238</td>\n",
       "      <td>0.1866</td>\n",
       "      <td>0.2416</td>\n",
       "      <td>0.1860</td>\n",
       "      <td>0.2750</td>\n",
       "      <td>0.08902</td>\n",
       "    </tr>\n",
       "    <tr>\n",
       "      <th>2</th>\n",
       "      <td>84300903</td>\n",
       "      <td>1</td>\n",
       "      <td>19.69</td>\n",
       "      <td>21.25</td>\n",
       "      <td>130.00</td>\n",
       "      <td>1203.0</td>\n",
       "      <td>0.10960</td>\n",
       "      <td>0.15990</td>\n",
       "      <td>0.1974</td>\n",
       "      <td>0.12790</td>\n",
       "      <td>...</td>\n",
       "      <td>23.57</td>\n",
       "      <td>25.53</td>\n",
       "      <td>152.50</td>\n",
       "      <td>1709.0</td>\n",
       "      <td>0.1444</td>\n",
       "      <td>0.4245</td>\n",
       "      <td>0.4504</td>\n",
       "      <td>0.2430</td>\n",
       "      <td>0.3613</td>\n",
       "      <td>0.08758</td>\n",
       "    </tr>\n",
       "    <tr>\n",
       "      <th>3</th>\n",
       "      <td>84348301</td>\n",
       "      <td>1</td>\n",
       "      <td>11.42</td>\n",
       "      <td>20.38</td>\n",
       "      <td>77.58</td>\n",
       "      <td>386.1</td>\n",
       "      <td>0.14250</td>\n",
       "      <td>0.28390</td>\n",
       "      <td>0.2414</td>\n",
       "      <td>0.10520</td>\n",
       "      <td>...</td>\n",
       "      <td>14.91</td>\n",
       "      <td>26.50</td>\n",
       "      <td>98.87</td>\n",
       "      <td>567.7</td>\n",
       "      <td>0.2098</td>\n",
       "      <td>0.8663</td>\n",
       "      <td>0.6869</td>\n",
       "      <td>0.2575</td>\n",
       "      <td>0.6638</td>\n",
       "      <td>0.17300</td>\n",
       "    </tr>\n",
       "    <tr>\n",
       "      <th>4</th>\n",
       "      <td>84358402</td>\n",
       "      <td>1</td>\n",
       "      <td>20.29</td>\n",
       "      <td>14.34</td>\n",
       "      <td>135.10</td>\n",
       "      <td>1297.0</td>\n",
       "      <td>0.10030</td>\n",
       "      <td>0.13280</td>\n",
       "      <td>0.1980</td>\n",
       "      <td>0.10430</td>\n",
       "      <td>...</td>\n",
       "      <td>22.54</td>\n",
       "      <td>16.67</td>\n",
       "      <td>152.20</td>\n",
       "      <td>1575.0</td>\n",
       "      <td>0.1374</td>\n",
       "      <td>0.2050</td>\n",
       "      <td>0.4000</td>\n",
       "      <td>0.1625</td>\n",
       "      <td>0.2364</td>\n",
       "      <td>0.07678</td>\n",
       "    </tr>\n",
       "  </tbody>\n",
       "</table>\n",
       "<p>5 rows × 32 columns</p>\n",
       "</div>"
      ],
      "text/plain": [
       "      ID No  Diagnosis  Radius1  Texture1  Perimeter1   Area1  Smoothness1  \\\n",
       "0    842302          1    17.99     10.38      122.80  1001.0      0.11840   \n",
       "1    842517          1    20.57     17.77      132.90  1326.0      0.08474   \n",
       "2  84300903          1    19.69     21.25      130.00  1203.0      0.10960   \n",
       "3  84348301          1    11.42     20.38       77.58   386.1      0.14250   \n",
       "4  84358402          1    20.29     14.34      135.10  1297.0      0.10030   \n",
       "\n",
       "   Compactness1  Concavity1  ConcavePoints1     ...       Radius3  Texture3  \\\n",
       "0       0.27760      0.3001         0.14710     ...         25.38     17.33   \n",
       "1       0.07864      0.0869         0.07017     ...         24.99     23.41   \n",
       "2       0.15990      0.1974         0.12790     ...         23.57     25.53   \n",
       "3       0.28390      0.2414         0.10520     ...         14.91     26.50   \n",
       "4       0.13280      0.1980         0.10430     ...         22.54     16.67   \n",
       "\n",
       "   Perimeter3   Area3  Smoothness3  Compactness3  Concavity3  ConcavePoints3  \\\n",
       "0      184.60  2019.0       0.1622        0.6656      0.7119          0.2654   \n",
       "1      158.80  1956.0       0.1238        0.1866      0.2416          0.1860   \n",
       "2      152.50  1709.0       0.1444        0.4245      0.4504          0.2430   \n",
       "3       98.87   567.7       0.2098        0.8663      0.6869          0.2575   \n",
       "4      152.20  1575.0       0.1374        0.2050      0.4000          0.1625   \n",
       "\n",
       "   Symmetry3  FractalDim3  \n",
       "0     0.4601      0.11890  \n",
       "1     0.2750      0.08902  \n",
       "2     0.3613      0.08758  \n",
       "3     0.6638      0.17300  \n",
       "4     0.2364      0.07678  \n",
       "\n",
       "[5 rows x 32 columns]"
      ]
     },
     "execution_count": 8,
     "metadata": {},
     "output_type": "execute_result"
    }
   ],
   "source": [
    "df.head()"
   ]
  },
  {
   "cell_type": "markdown",
   "metadata": {},
   "source": [
    "### Features and Labels"
   ]
  },
  {
   "cell_type": "code",
   "execution_count": 9,
   "metadata": {},
   "outputs": [],
   "source": [
    "x_data = df.drop([\"ID No\",\"Diagnosis\"],axis=1)\n",
    "y_labels = df['Diagnosis']"
   ]
  },
  {
   "cell_type": "markdown",
   "metadata": {},
   "source": [
    "### Convertng pandas DataFrame to numpy matrix"
   ]
  },
  {
   "cell_type": "code",
   "execution_count": 10,
   "metadata": {},
   "outputs": [],
   "source": [
    "x_data = x_data.as_matrix()\n",
    "y_labels = y_labels.as_matrix()"
   ]
  },
  {
   "cell_type": "markdown",
   "metadata": {},
   "source": [
    "### Train-Test Split"
   ]
  },
  {
   "cell_type": "code",
   "execution_count": 11,
   "metadata": {},
   "outputs": [],
   "source": [
    "from sklearn.model_selection import train_test_split"
   ]
  },
  {
   "cell_type": "code",
   "execution_count": 12,
   "metadata": {},
   "outputs": [],
   "source": [
    "X_train, X_test, y_train, y_test = train_test_split(x_data,y_labels,test_size=0.3,random_state=101)"
   ]
  },
  {
   "cell_type": "markdown",
   "metadata": {},
   "source": [
    "### Normalise Data"
   ]
  },
  {
   "cell_type": "code",
   "execution_count": 13,
   "metadata": {},
   "outputs": [],
   "source": [
    "from sklearn.preprocessing import MinMaxScaler"
   ]
  },
  {
   "cell_type": "code",
   "execution_count": 14,
   "metadata": {},
   "outputs": [],
   "source": [
    "scaler = MinMaxScaler()"
   ]
  },
  {
   "cell_type": "code",
   "execution_count": 15,
   "metadata": {},
   "outputs": [],
   "source": [
    "scaled_x_train = scaler.fit_transform(X_train)\n",
    "scaled_x_test = scaler.transform(X_test)"
   ]
  },
  {
   "cell_type": "code",
   "execution_count": 16,
   "metadata": {},
   "outputs": [],
   "source": [
    "onehot_y_train = pd.get_dummies(y_train).as_matrix()"
   ]
  },
  {
   "cell_type": "markdown",
   "metadata": {},
   "source": [
    "### Defining the Network"
   ]
  },
  {
   "cell_type": "code",
   "execution_count": 17,
   "metadata": {},
   "outputs": [
    {
     "data": {
      "text/plain": [
       "(398, 30)"
      ]
     },
     "execution_count": 17,
     "metadata": {},
     "output_type": "execute_result"
    }
   ],
   "source": [
    "X_train.shape"
   ]
  },
  {
   "cell_type": "markdown",
   "metadata": {},
   "source": [
    "### Parameters"
   ]
  },
  {
   "cell_type": "code",
   "execution_count": 18,
   "metadata": {},
   "outputs": [],
   "source": [
    "num_inputs = 30\n",
    "num_hidden1 = 90\n",
    "num_hidden2 = 30\n",
    "num_outputs = 2\n",
    "learning_rate = 0.005"
   ]
  },
  {
   "cell_type": "markdown",
   "metadata": {},
   "source": [
    "### Placeholders"
   ]
  },
  {
   "cell_type": "code",
   "execution_count": 19,
   "metadata": {},
   "outputs": [],
   "source": [
    "X = tf.placeholder(tf.float32,[None,num_inputs],name=\"X\")\n",
    "y_true = tf.placeholder(tf.float32,[None,num_outputs],name=\"Labels\")"
   ]
  },
  {
   "cell_type": "markdown",
   "metadata": {},
   "source": [
    "### Initialise Weights"
   ]
  },
  {
   "cell_type": "code",
   "execution_count": 20,
   "metadata": {},
   "outputs": [],
   "source": [
    "W1 = tf.Variable(tf.random_normal([num_inputs,num_hidden1],stddev=0.01),name=\"W1\")\n",
    "b1 = tf.Variable(tf.random_normal([num_hidden1],stddev=0.01),name=\"b1\")\n",
    "W2 = tf.Variable(tf.random_normal([num_hidden1,num_hidden2],stddev=0.01),name=\"W2\")\n",
    "b2 = tf.Variable(tf.random_normal([num_hidden2],stddev=0.01),name=\"b2\")\n",
    "W3 = tf.Variable(tf.random_normal([num_hidden2,num_outputs],stddev=0.01),name=\"W3\")\n",
    "b3 = tf.Variable(tf.random_normal([num_outputs],stddev=0.01),name=\"b3\")\n",
    "\n",
    "\n",
    "w1s = tf.summary.histogram(\"W1\",W1)\n",
    "b1s = tf.summary.histogram(\"b1\",b1)\n",
    "w2s = tf.summary.histogram(\"W2\",W2)\n",
    "b2s = tf.summary.histogram(\"b2\",b2)\n",
    "w3s = tf.summary.histogram(\"W3\",W3)\n",
    "b3s = tf.summary.histogram(\"b3\",b3)"
   ]
  },
  {
   "cell_type": "markdown",
   "metadata": {},
   "source": [
    "### Choose activation function"
   ]
  },
  {
   "cell_type": "code",
   "execution_count": 21,
   "metadata": {},
   "outputs": [],
   "source": [
    "actf = tf.nn.relu"
   ]
  },
  {
   "cell_type": "markdown",
   "metadata": {},
   "source": [
    "### Operation"
   ]
  },
  {
   "cell_type": "code",
   "execution_count": 22,
   "metadata": {},
   "outputs": [],
   "source": [
    "with tf.name_scope(\"NeuralNetwork\"):\n",
    "    O = tf.add(tf.matmul(X,W1),b1)\n",
    "    Z = actf(O)\n",
    "    Z = tf.nn.dropout(Z,0.25)\n",
    "    \n",
    "    O1 = tf.add(tf.matmul(Z,W2),b2)\n",
    "    Z1 = actf(O1)\n",
    "    Z1 = tf.nn.dropout(Z1,0.2)\n",
    "        \n",
    "    output = tf.add(tf.matmul(Z1,W3),b3)"
   ]
  },
  {
   "cell_type": "markdown",
   "metadata": {},
   "source": [
    "### Error Calculation"
   ]
  },
  {
   "cell_type": "code",
   "execution_count": 23,
   "metadata": {},
   "outputs": [],
   "source": [
    "with tf.name_scope(\"CrossEntropyError\"):\n",
    "    cost = tf.reduce_mean(tf.nn.softmax_cross_entropy_with_logits_v2(labels=y_true,logits=output))\n",
    "cs = tf.summary.scalar('cross_entropy_error',cost)"
   ]
  },
  {
   "cell_type": "markdown",
   "metadata": {},
   "source": [
    "### Accuracy Calculation"
   ]
  },
  {
   "cell_type": "code",
   "execution_count": 24,
   "metadata": {},
   "outputs": [],
   "source": [
    "with tf.name_scope('Accuracy'):\n",
    "    with tf.name_scope('correct_prediction'):\n",
    "        correct_prediction = tf.equal(tf.argmax(y_true, 1), tf.argmax(output, 1))\n",
    "    with tf.name_scope('accuracy'):\n",
    "        accuracy = tf.reduce_mean(tf.cast(correct_prediction, tf.float32))\n",
    "    acc = tf.summary.scalar('accuracy', accuracy)"
   ]
  },
  {
   "cell_type": "markdown",
   "metadata": {},
   "source": [
    "### Optimizer"
   ]
  },
  {
   "cell_type": "code",
   "execution_count": 25,
   "metadata": {},
   "outputs": [],
   "source": [
    "optimizer = tf.train.AdamOptimizer(learning_rate)\n",
    "train = optimizer.minimize(cost)"
   ]
  },
  {
   "cell_type": "code",
   "execution_count": 26,
   "metadata": {},
   "outputs": [],
   "source": [
    "predict = tf.argmax(output,axis=1)"
   ]
  },
  {
   "cell_type": "markdown",
   "metadata": {},
   "source": [
    "### Initialise Global Variables"
   ]
  },
  {
   "cell_type": "code",
   "execution_count": 27,
   "metadata": {},
   "outputs": [],
   "source": [
    "init = tf.global_variables_initializer()"
   ]
  },
  {
   "cell_type": "markdown",
   "metadata": {},
   "source": [
    "### Saving Model"
   ]
  },
  {
   "cell_type": "code",
   "execution_count": 28,
   "metadata": {},
   "outputs": [],
   "source": [
    "saver = tf.train.Saver()"
   ]
  },
  {
   "cell_type": "code",
   "execution_count": 29,
   "metadata": {},
   "outputs": [
    {
     "name": "stdout",
     "output_type": "stream",
     "text": [
      "Training Accuracy: 0.63316584\n",
      "Training Accuracy: 0.96231157\n",
      "Training Accuracy: 0.959799\n",
      "Training Accuracy: 0.96482414\n",
      "Training Accuracy: 0.96733665\n",
      "Training Accuracy: 0.9698492\n",
      "Training Accuracy: 0.9698492\n",
      "Training Accuracy: 0.9447236\n",
      "Training Accuracy: 0.9748744\n",
      "Training Accuracy: 0.9698492\n"
     ]
    }
   ],
   "source": [
    "training_steps = 3000\n",
    "\n",
    "with tf.Session() as sess:\n",
    "    sess.run(init)\n",
    "    writer = tf.summary.FileWriter(\"Diagnosis/Logs\",sess.graph)\n",
    "    summaries = tf.summary.merge([w1s,b1s,w2s,b2s,w3s,b3s,cs,acc])\n",
    "    for i in range(training_steps):\n",
    "        sess.run(train,feed_dict={X:scaled_x_train,y_true:onehot_y_train})\n",
    "        pred = sess.run(predict, feed_dict={X:scaled_x_train,y_true:onehot_y_train})\n",
    "        if i % 300 == 0:\n",
    "            \n",
    "            # Printing out accuracy\n",
    "            correct_prediction = tf.equal(y_train, pred)\n",
    "            print(\"Training Accuracy:\",sess.run(tf.reduce_mean(tf.cast(correct_prediction, tf.float32))))\n",
    "            \n",
    "            s = sess.run(summaries,feed_dict={X:scaled_x_train,y_true:onehot_y_train})\n",
    "            writer.add_summary(s, global_step=i)\n",
    "        \n",
    "    \n",
    "    # Get predictions\n",
    "    logits = output.eval(feed_dict={X:scaled_x_test})\n",
    "    preds = tf.argmax(logits,axis=1)\n",
    "    results = preds.eval()\n",
    "    writer.close()\n",
    "    saver.save(sess,'Diagnosis/Models/my_base_model.ckpt')"
   ]
  },
  {
   "cell_type": "markdown",
   "metadata": {},
   "source": [
    "### Evaluating Performance on Test set"
   ]
  },
  {
   "cell_type": "code",
   "execution_count": 30,
   "metadata": {},
   "outputs": [
    {
     "name": "stdout",
     "output_type": "stream",
     "text": [
      "             precision    recall  f1-score   support\n",
      "\n",
      "          0       0.99      0.93      0.96       112\n",
      "          1       0.88      0.98      0.93        59\n",
      "\n",
      "avg / total       0.95      0.95      0.95       171\n",
      "\n"
     ]
    }
   ],
   "source": [
    "from sklearn.metrics import confusion_matrix,classification_report\n",
    "print(classification_report(results,y_test))"
   ]
  }
 ],
 "metadata": {
  "kernelspec": {
   "display_name": "Python 3",
   "language": "python",
   "name": "python3"
  },
  "language_info": {
   "codemirror_mode": {
    "name": "ipython",
    "version": 3
   },
   "file_extension": ".py",
   "mimetype": "text/x-python",
   "name": "python",
   "nbconvert_exporter": "python",
   "pygments_lexer": "ipython3",
   "version": "3.6.4"
  }
 },
 "nbformat": 4,
 "nbformat_minor": 2
}
