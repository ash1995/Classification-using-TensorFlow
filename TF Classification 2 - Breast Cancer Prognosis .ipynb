{
 "cells": [
  {
   "cell_type": "markdown",
   "metadata": {},
   "source": [
    "# Breast Cancer Prognosis using TensorFlow"
   ]
  },
  {
   "cell_type": "markdown",
   "metadata": {},
   "source": [
    "**Objective**: To classify whether or not cancer will recur in a patient in 24 months <br>\n",
    "**Dataset used**: Wisconsin Prognostic Breast Cancer dataset"
   ]
  },
  {
   "cell_type": "markdown",
   "metadata": {},
   "source": [
    "Similar to the Wisconsin Diagnostic Breast Cancer (WDBC) dataset, the Prognostic Breast Cancer dataset also contains the 10 features of extracted from each of the 3 nuclei under consideration namely, radius, perimeter, area, compactness, smoothness, concavity, concave points, symmetry, fractal dimension, and texture. This data was tabulated for each of the 198 patients. In addition to the 32 features from the WDBC dataset, this dataset contains 3 additional features namely, the tumor diameter, number of lymph nodes removed from the patient and a time feature which indicates the number of months the patient was disease free since the initial treatment, if they're a non-recurring patient and number of months post initial treatment when the cancer recurred. This yields a database of 198 samples x 35 features."
   ]
  },
  {
   "cell_type": "markdown",
   "metadata": {},
   "source": [
    "**Note:** Unlike the WDBC dataset, the WPBC dataset requires a few additional pre-processing steps. For one, there are some missing values for certain patients. Additionally the labelling to be done is conditional. Only recurring patients that have a recurring time less than 24 months are labelled as 1 while the rest are labelled as 0. "
   ]
  },
  {
   "cell_type": "code",
   "execution_count": 1,
   "metadata": {},
   "outputs": [
    {
     "name": "stderr",
     "output_type": "stream",
     "text": [
      "C:\\Users\\ash19\\Anaconda3\\lib\\site-packages\\h5py\\__init__.py:34: FutureWarning: Conversion of the second argument of issubdtype from `float` to `np.floating` is deprecated. In future, it will be treated as `np.float64 == np.dtype(float).type`.\n",
      "  from ._conv import register_converters as _register_converters\n"
     ]
    }
   ],
   "source": [
    "import tensorflow as tf\n",
    "import pandas as pd\n",
    "import numpy as np"
   ]
  },
  {
   "cell_type": "code",
   "execution_count": 2,
   "metadata": {},
   "outputs": [],
   "source": [
    "df = pd.read_csv(\"Datasets/Prognosis_Breast_Cancer.csv\")"
   ]
  },
  {
   "cell_type": "code",
   "execution_count": 3,
   "metadata": {},
   "outputs": [
    {
     "data": {
      "text/html": [
       "<div>\n",
       "<style scoped>\n",
       "    .dataframe tbody tr th:only-of-type {\n",
       "        vertical-align: middle;\n",
       "    }\n",
       "\n",
       "    .dataframe tbody tr th {\n",
       "        vertical-align: top;\n",
       "    }\n",
       "\n",
       "    .dataframe thead th {\n",
       "        text-align: right;\n",
       "    }\n",
       "</style>\n",
       "<table border=\"1\" class=\"dataframe\">\n",
       "  <thead>\n",
       "    <tr style=\"text-align: right;\">\n",
       "      <th></th>\n",
       "      <th>Column1</th>\n",
       "      <th>Column2</th>\n",
       "      <th>Column3</th>\n",
       "      <th>Column4</th>\n",
       "      <th>Column5</th>\n",
       "      <th>Column6</th>\n",
       "      <th>Column7</th>\n",
       "      <th>Column8</th>\n",
       "      <th>Column9</th>\n",
       "      <th>Column10</th>\n",
       "      <th>...</th>\n",
       "      <th>Column26</th>\n",
       "      <th>Column27</th>\n",
       "      <th>Column28</th>\n",
       "      <th>Column29</th>\n",
       "      <th>Column30</th>\n",
       "      <th>Column31</th>\n",
       "      <th>Column32</th>\n",
       "      <th>Column33</th>\n",
       "      <th>Column34</th>\n",
       "      <th>Column35</th>\n",
       "    </tr>\n",
       "  </thead>\n",
       "  <tbody>\n",
       "    <tr>\n",
       "      <th>0</th>\n",
       "      <td>119513</td>\n",
       "      <td>N</td>\n",
       "      <td>31</td>\n",
       "      <td>18.02</td>\n",
       "      <td>27.60</td>\n",
       "      <td>117.50</td>\n",
       "      <td>1013.0</td>\n",
       "      <td>0.09489</td>\n",
       "      <td>0.1036</td>\n",
       "      <td>0.1086</td>\n",
       "      <td>...</td>\n",
       "      <td>139.70</td>\n",
       "      <td>1436.0</td>\n",
       "      <td>0.1195</td>\n",
       "      <td>0.1926</td>\n",
       "      <td>0.3140</td>\n",
       "      <td>0.1170</td>\n",
       "      <td>0.2677</td>\n",
       "      <td>0.08113</td>\n",
       "      <td>5.0</td>\n",
       "      <td>5</td>\n",
       "    </tr>\n",
       "    <tr>\n",
       "      <th>1</th>\n",
       "      <td>8423</td>\n",
       "      <td>N</td>\n",
       "      <td>61</td>\n",
       "      <td>17.99</td>\n",
       "      <td>10.38</td>\n",
       "      <td>122.80</td>\n",
       "      <td>1001.0</td>\n",
       "      <td>0.11840</td>\n",
       "      <td>0.2776</td>\n",
       "      <td>0.3001</td>\n",
       "      <td>...</td>\n",
       "      <td>184.60</td>\n",
       "      <td>2019.0</td>\n",
       "      <td>0.1622</td>\n",
       "      <td>0.6656</td>\n",
       "      <td>0.7119</td>\n",
       "      <td>0.2654</td>\n",
       "      <td>0.4601</td>\n",
       "      <td>0.11890</td>\n",
       "      <td>3.0</td>\n",
       "      <td>2</td>\n",
       "    </tr>\n",
       "    <tr>\n",
       "      <th>2</th>\n",
       "      <td>842517</td>\n",
       "      <td>N</td>\n",
       "      <td>116</td>\n",
       "      <td>21.37</td>\n",
       "      <td>17.44</td>\n",
       "      <td>137.50</td>\n",
       "      <td>1373.0</td>\n",
       "      <td>0.08836</td>\n",
       "      <td>0.1189</td>\n",
       "      <td>0.1255</td>\n",
       "      <td>...</td>\n",
       "      <td>159.10</td>\n",
       "      <td>1949.0</td>\n",
       "      <td>0.1188</td>\n",
       "      <td>0.3449</td>\n",
       "      <td>0.3414</td>\n",
       "      <td>0.2032</td>\n",
       "      <td>0.4334</td>\n",
       "      <td>0.09067</td>\n",
       "      <td>2.5</td>\n",
       "      <td>0</td>\n",
       "    </tr>\n",
       "    <tr>\n",
       "      <th>3</th>\n",
       "      <td>843483</td>\n",
       "      <td>N</td>\n",
       "      <td>123</td>\n",
       "      <td>11.42</td>\n",
       "      <td>20.38</td>\n",
       "      <td>77.58</td>\n",
       "      <td>386.1</td>\n",
       "      <td>0.14250</td>\n",
       "      <td>0.2839</td>\n",
       "      <td>0.2414</td>\n",
       "      <td>...</td>\n",
       "      <td>98.87</td>\n",
       "      <td>567.7</td>\n",
       "      <td>0.2098</td>\n",
       "      <td>0.8663</td>\n",
       "      <td>0.6869</td>\n",
       "      <td>0.2575</td>\n",
       "      <td>0.6638</td>\n",
       "      <td>0.17300</td>\n",
       "      <td>2.0</td>\n",
       "      <td>0</td>\n",
       "    </tr>\n",
       "    <tr>\n",
       "      <th>4</th>\n",
       "      <td>843584</td>\n",
       "      <td>R</td>\n",
       "      <td>27</td>\n",
       "      <td>20.29</td>\n",
       "      <td>14.34</td>\n",
       "      <td>135.10</td>\n",
       "      <td>1297.0</td>\n",
       "      <td>0.10030</td>\n",
       "      <td>0.1328</td>\n",
       "      <td>0.1980</td>\n",
       "      <td>...</td>\n",
       "      <td>152.20</td>\n",
       "      <td>1575.0</td>\n",
       "      <td>0.1374</td>\n",
       "      <td>0.2050</td>\n",
       "      <td>0.4000</td>\n",
       "      <td>0.1625</td>\n",
       "      <td>0.2364</td>\n",
       "      <td>0.07678</td>\n",
       "      <td>3.5</td>\n",
       "      <td>0</td>\n",
       "    </tr>\n",
       "  </tbody>\n",
       "</table>\n",
       "<p>5 rows × 35 columns</p>\n",
       "</div>"
      ],
      "text/plain": [
       "   Column1 Column2  Column3  Column4  Column5  Column6  Column7  Column8  \\\n",
       "0   119513       N       31    18.02    27.60   117.50   1013.0  0.09489   \n",
       "1     8423       N       61    17.99    10.38   122.80   1001.0  0.11840   \n",
       "2   842517       N      116    21.37    17.44   137.50   1373.0  0.08836   \n",
       "3   843483       N      123    11.42    20.38    77.58    386.1  0.14250   \n",
       "4   843584       R       27    20.29    14.34   135.10   1297.0  0.10030   \n",
       "\n",
       "   Column9  Column10    ...     Column26  Column27  Column28  Column29  \\\n",
       "0   0.1036    0.1086    ...       139.70    1436.0    0.1195    0.1926   \n",
       "1   0.2776    0.3001    ...       184.60    2019.0    0.1622    0.6656   \n",
       "2   0.1189    0.1255    ...       159.10    1949.0    0.1188    0.3449   \n",
       "3   0.2839    0.2414    ...        98.87     567.7    0.2098    0.8663   \n",
       "4   0.1328    0.1980    ...       152.20    1575.0    0.1374    0.2050   \n",
       "\n",
       "   Column30  Column31  Column32  Column33  Column34  Column35  \n",
       "0    0.3140    0.1170    0.2677   0.08113       5.0         5  \n",
       "1    0.7119    0.2654    0.4601   0.11890       3.0         2  \n",
       "2    0.3414    0.2032    0.4334   0.09067       2.5         0  \n",
       "3    0.6869    0.2575    0.6638   0.17300       2.0         0  \n",
       "4    0.4000    0.1625    0.2364   0.07678       3.5         0  \n",
       "\n",
       "[5 rows x 35 columns]"
      ]
     },
     "execution_count": 3,
     "metadata": {},
     "output_type": "execute_result"
    }
   ],
   "source": [
    "df.head()"
   ]
  },
  {
   "cell_type": "markdown",
   "metadata": {},
   "source": [
    "### Labelling Columns"
   ]
  },
  {
   "cell_type": "code",
   "execution_count": 4,
   "metadata": {},
   "outputs": [],
   "source": [
    "df.rename(columns={'Column1': 'ID No', \n",
    "                   'Column2': 'Outcome',\n",
    "                   'Column3': 'Time',\n",
    "                   'Column4': 'Radius1',\n",
    "                   'Column5': 'Texture1',\n",
    "                   'Column6': 'Perimeter1',\n",
    "                   'Column7': 'Area1',\n",
    "                   'Column8': 'Smoothness1',\n",
    "                   'Column9': 'Compactness1',\n",
    "                   'Column10': 'Concavity1',\n",
    "                   'Column11': 'ConcavePoints1',\n",
    "                   'Column12': 'Symmetry1',\n",
    "                   'Column13': 'FractalDim1',\n",
    "                   'Column14': 'Radius2',\n",
    "                   'Column15': 'Texture2',\n",
    "                   'Column16': 'Perimeter2',\n",
    "                   'Column17': 'Area2',\n",
    "                   'Column18': 'Smoothness2',\n",
    "                   'Column19': 'Compactness2',\n",
    "                   'Column20': 'Concavity2',\n",
    "                   'Column21': 'ConcavePoints2',\n",
    "                   'Column22': 'Symmetry2',\n",
    "                   'Column23': 'FractalDim2',\n",
    "                   'Column24': 'Radius3',\n",
    "                   'Column25': 'Texture3',\n",
    "                   'Column26': 'Perimeter3',\n",
    "                   'Column27': 'Area3',\n",
    "                   'Column28': 'Smoothness3',\n",
    "                   'Column29': 'Compactness3',\n",
    "                   'Column30': 'Concavity3',\n",
    "                   'Column31': 'ConcavePoints3',\n",
    "                   'Column32': 'Symmetry3',\n",
    "                   'Column33': 'FractalDim3',\n",
    "                   'Column34': 'Tumor Diameter',\n",
    "                   'Column35': 'Lymph Nodes Removed'},inplace=True)"
   ]
  },
  {
   "cell_type": "code",
   "execution_count": 5,
   "metadata": {},
   "outputs": [
    {
     "data": {
      "text/html": [
       "<div>\n",
       "<style scoped>\n",
       "    .dataframe tbody tr th:only-of-type {\n",
       "        vertical-align: middle;\n",
       "    }\n",
       "\n",
       "    .dataframe tbody tr th {\n",
       "        vertical-align: top;\n",
       "    }\n",
       "\n",
       "    .dataframe thead th {\n",
       "        text-align: right;\n",
       "    }\n",
       "</style>\n",
       "<table border=\"1\" class=\"dataframe\">\n",
       "  <thead>\n",
       "    <tr style=\"text-align: right;\">\n",
       "      <th></th>\n",
       "      <th>ID No</th>\n",
       "      <th>Outcome</th>\n",
       "      <th>Time</th>\n",
       "      <th>Radius1</th>\n",
       "      <th>Texture1</th>\n",
       "      <th>Perimeter1</th>\n",
       "      <th>Area1</th>\n",
       "      <th>Smoothness1</th>\n",
       "      <th>Compactness1</th>\n",
       "      <th>Concavity1</th>\n",
       "      <th>...</th>\n",
       "      <th>Perimeter3</th>\n",
       "      <th>Area3</th>\n",
       "      <th>Smoothness3</th>\n",
       "      <th>Compactness3</th>\n",
       "      <th>Concavity3</th>\n",
       "      <th>ConcavePoints3</th>\n",
       "      <th>Symmetry3</th>\n",
       "      <th>FractalDim3</th>\n",
       "      <th>Tumor Diameter</th>\n",
       "      <th>Lymph Nodes Removed</th>\n",
       "    </tr>\n",
       "  </thead>\n",
       "  <tbody>\n",
       "    <tr>\n",
       "      <th>0</th>\n",
       "      <td>119513</td>\n",
       "      <td>N</td>\n",
       "      <td>31</td>\n",
       "      <td>18.02</td>\n",
       "      <td>27.60</td>\n",
       "      <td>117.50</td>\n",
       "      <td>1013.0</td>\n",
       "      <td>0.09489</td>\n",
       "      <td>0.1036</td>\n",
       "      <td>0.1086</td>\n",
       "      <td>...</td>\n",
       "      <td>139.70</td>\n",
       "      <td>1436.0</td>\n",
       "      <td>0.1195</td>\n",
       "      <td>0.1926</td>\n",
       "      <td>0.3140</td>\n",
       "      <td>0.1170</td>\n",
       "      <td>0.2677</td>\n",
       "      <td>0.08113</td>\n",
       "      <td>5.0</td>\n",
       "      <td>5</td>\n",
       "    </tr>\n",
       "    <tr>\n",
       "      <th>1</th>\n",
       "      <td>8423</td>\n",
       "      <td>N</td>\n",
       "      <td>61</td>\n",
       "      <td>17.99</td>\n",
       "      <td>10.38</td>\n",
       "      <td>122.80</td>\n",
       "      <td>1001.0</td>\n",
       "      <td>0.11840</td>\n",
       "      <td>0.2776</td>\n",
       "      <td>0.3001</td>\n",
       "      <td>...</td>\n",
       "      <td>184.60</td>\n",
       "      <td>2019.0</td>\n",
       "      <td>0.1622</td>\n",
       "      <td>0.6656</td>\n",
       "      <td>0.7119</td>\n",
       "      <td>0.2654</td>\n",
       "      <td>0.4601</td>\n",
       "      <td>0.11890</td>\n",
       "      <td>3.0</td>\n",
       "      <td>2</td>\n",
       "    </tr>\n",
       "    <tr>\n",
       "      <th>2</th>\n",
       "      <td>842517</td>\n",
       "      <td>N</td>\n",
       "      <td>116</td>\n",
       "      <td>21.37</td>\n",
       "      <td>17.44</td>\n",
       "      <td>137.50</td>\n",
       "      <td>1373.0</td>\n",
       "      <td>0.08836</td>\n",
       "      <td>0.1189</td>\n",
       "      <td>0.1255</td>\n",
       "      <td>...</td>\n",
       "      <td>159.10</td>\n",
       "      <td>1949.0</td>\n",
       "      <td>0.1188</td>\n",
       "      <td>0.3449</td>\n",
       "      <td>0.3414</td>\n",
       "      <td>0.2032</td>\n",
       "      <td>0.4334</td>\n",
       "      <td>0.09067</td>\n",
       "      <td>2.5</td>\n",
       "      <td>0</td>\n",
       "    </tr>\n",
       "    <tr>\n",
       "      <th>3</th>\n",
       "      <td>843483</td>\n",
       "      <td>N</td>\n",
       "      <td>123</td>\n",
       "      <td>11.42</td>\n",
       "      <td>20.38</td>\n",
       "      <td>77.58</td>\n",
       "      <td>386.1</td>\n",
       "      <td>0.14250</td>\n",
       "      <td>0.2839</td>\n",
       "      <td>0.2414</td>\n",
       "      <td>...</td>\n",
       "      <td>98.87</td>\n",
       "      <td>567.7</td>\n",
       "      <td>0.2098</td>\n",
       "      <td>0.8663</td>\n",
       "      <td>0.6869</td>\n",
       "      <td>0.2575</td>\n",
       "      <td>0.6638</td>\n",
       "      <td>0.17300</td>\n",
       "      <td>2.0</td>\n",
       "      <td>0</td>\n",
       "    </tr>\n",
       "    <tr>\n",
       "      <th>4</th>\n",
       "      <td>843584</td>\n",
       "      <td>R</td>\n",
       "      <td>27</td>\n",
       "      <td>20.29</td>\n",
       "      <td>14.34</td>\n",
       "      <td>135.10</td>\n",
       "      <td>1297.0</td>\n",
       "      <td>0.10030</td>\n",
       "      <td>0.1328</td>\n",
       "      <td>0.1980</td>\n",
       "      <td>...</td>\n",
       "      <td>152.20</td>\n",
       "      <td>1575.0</td>\n",
       "      <td>0.1374</td>\n",
       "      <td>0.2050</td>\n",
       "      <td>0.4000</td>\n",
       "      <td>0.1625</td>\n",
       "      <td>0.2364</td>\n",
       "      <td>0.07678</td>\n",
       "      <td>3.5</td>\n",
       "      <td>0</td>\n",
       "    </tr>\n",
       "  </tbody>\n",
       "</table>\n",
       "<p>5 rows × 35 columns</p>\n",
       "</div>"
      ],
      "text/plain": [
       "    ID No Outcome  Time  Radius1  Texture1  Perimeter1   Area1  Smoothness1  \\\n",
       "0  119513       N    31    18.02     27.60      117.50  1013.0      0.09489   \n",
       "1    8423       N    61    17.99     10.38      122.80  1001.0      0.11840   \n",
       "2  842517       N   116    21.37     17.44      137.50  1373.0      0.08836   \n",
       "3  843483       N   123    11.42     20.38       77.58   386.1      0.14250   \n",
       "4  843584       R    27    20.29     14.34      135.10  1297.0      0.10030   \n",
       "\n",
       "   Compactness1  Concavity1         ...           Perimeter3   Area3  \\\n",
       "0        0.1036      0.1086         ...               139.70  1436.0   \n",
       "1        0.2776      0.3001         ...               184.60  2019.0   \n",
       "2        0.1189      0.1255         ...               159.10  1949.0   \n",
       "3        0.2839      0.2414         ...                98.87   567.7   \n",
       "4        0.1328      0.1980         ...               152.20  1575.0   \n",
       "\n",
       "   Smoothness3  Compactness3  Concavity3  ConcavePoints3  Symmetry3  \\\n",
       "0       0.1195        0.1926      0.3140          0.1170     0.2677   \n",
       "1       0.1622        0.6656      0.7119          0.2654     0.4601   \n",
       "2       0.1188        0.3449      0.3414          0.2032     0.4334   \n",
       "3       0.2098        0.8663      0.6869          0.2575     0.6638   \n",
       "4       0.1374        0.2050      0.4000          0.1625     0.2364   \n",
       "\n",
       "   FractalDim3  Tumor Diameter  Lymph Nodes Removed  \n",
       "0      0.08113             5.0                    5  \n",
       "1      0.11890             3.0                    2  \n",
       "2      0.09067             2.5                    0  \n",
       "3      0.17300             2.0                    0  \n",
       "4      0.07678             3.5                    0  \n",
       "\n",
       "[5 rows x 35 columns]"
      ]
     },
     "execution_count": 5,
     "metadata": {},
     "output_type": "execute_result"
    }
   ],
   "source": [
    "df.head()"
   ]
  },
  {
   "cell_type": "code",
   "execution_count": 6,
   "metadata": {},
   "outputs": [
    {
     "data": {
      "text/plain": [
       "array(['N', 'R'], dtype=object)"
      ]
     },
     "execution_count": 6,
     "metadata": {},
     "output_type": "execute_result"
    }
   ],
   "source": [
    "df['Outcome'].unique()"
   ]
  },
  {
   "cell_type": "code",
   "execution_count": 7,
   "metadata": {},
   "outputs": [],
   "source": [
    "'''\n",
    "Those with recurring cancer and if their recurring time is less than 24 months, it's labelled as 1 and the rest (non recurring\n",
    "cancer patients and those patients that have a recurring time greater than 24 months) are labelled as 0.\n",
    "'''\n",
    "\n",
    "df.loc[(df['Time'] <= 24) & (df['Outcome'] == 'R'), 'Outcome'] = 1\n",
    "df['Outcome'] = df['Outcome'].values != 1\n",
    "\n",
    "# Replacing True/False column with 1/0 column\n",
    "df['Outcome'].replace(False, 0, inplace=True)\n",
    "df['Outcome'].replace(True, 1, inplace=True)\n"
   ]
  },
  {
   "cell_type": "code",
   "execution_count": 8,
   "metadata": {},
   "outputs": [
    {
     "data": {
      "text/html": [
       "<div>\n",
       "<style scoped>\n",
       "    .dataframe tbody tr th:only-of-type {\n",
       "        vertical-align: middle;\n",
       "    }\n",
       "\n",
       "    .dataframe tbody tr th {\n",
       "        vertical-align: top;\n",
       "    }\n",
       "\n",
       "    .dataframe thead th {\n",
       "        text-align: right;\n",
       "    }\n",
       "</style>\n",
       "<table border=\"1\" class=\"dataframe\">\n",
       "  <thead>\n",
       "    <tr style=\"text-align: right;\">\n",
       "      <th></th>\n",
       "      <th>ID No</th>\n",
       "      <th>Outcome</th>\n",
       "      <th>Time</th>\n",
       "      <th>Radius1</th>\n",
       "      <th>Texture1</th>\n",
       "      <th>Perimeter1</th>\n",
       "      <th>Area1</th>\n",
       "      <th>Smoothness1</th>\n",
       "      <th>Compactness1</th>\n",
       "      <th>Concavity1</th>\n",
       "      <th>...</th>\n",
       "      <th>Perimeter3</th>\n",
       "      <th>Area3</th>\n",
       "      <th>Smoothness3</th>\n",
       "      <th>Compactness3</th>\n",
       "      <th>Concavity3</th>\n",
       "      <th>ConcavePoints3</th>\n",
       "      <th>Symmetry3</th>\n",
       "      <th>FractalDim3</th>\n",
       "      <th>Tumor Diameter</th>\n",
       "      <th>Lymph Nodes Removed</th>\n",
       "    </tr>\n",
       "  </thead>\n",
       "  <tbody>\n",
       "    <tr>\n",
       "      <th>0</th>\n",
       "      <td>119513</td>\n",
       "      <td>1.0</td>\n",
       "      <td>31</td>\n",
       "      <td>18.02</td>\n",
       "      <td>27.60</td>\n",
       "      <td>117.50</td>\n",
       "      <td>1013.0</td>\n",
       "      <td>0.09489</td>\n",
       "      <td>0.1036</td>\n",
       "      <td>0.1086</td>\n",
       "      <td>...</td>\n",
       "      <td>139.70</td>\n",
       "      <td>1436.0</td>\n",
       "      <td>0.1195</td>\n",
       "      <td>0.1926</td>\n",
       "      <td>0.3140</td>\n",
       "      <td>0.1170</td>\n",
       "      <td>0.2677</td>\n",
       "      <td>0.08113</td>\n",
       "      <td>5.0</td>\n",
       "      <td>5</td>\n",
       "    </tr>\n",
       "    <tr>\n",
       "      <th>1</th>\n",
       "      <td>8423</td>\n",
       "      <td>1.0</td>\n",
       "      <td>61</td>\n",
       "      <td>17.99</td>\n",
       "      <td>10.38</td>\n",
       "      <td>122.80</td>\n",
       "      <td>1001.0</td>\n",
       "      <td>0.11840</td>\n",
       "      <td>0.2776</td>\n",
       "      <td>0.3001</td>\n",
       "      <td>...</td>\n",
       "      <td>184.60</td>\n",
       "      <td>2019.0</td>\n",
       "      <td>0.1622</td>\n",
       "      <td>0.6656</td>\n",
       "      <td>0.7119</td>\n",
       "      <td>0.2654</td>\n",
       "      <td>0.4601</td>\n",
       "      <td>0.11890</td>\n",
       "      <td>3.0</td>\n",
       "      <td>2</td>\n",
       "    </tr>\n",
       "    <tr>\n",
       "      <th>2</th>\n",
       "      <td>842517</td>\n",
       "      <td>1.0</td>\n",
       "      <td>116</td>\n",
       "      <td>21.37</td>\n",
       "      <td>17.44</td>\n",
       "      <td>137.50</td>\n",
       "      <td>1373.0</td>\n",
       "      <td>0.08836</td>\n",
       "      <td>0.1189</td>\n",
       "      <td>0.1255</td>\n",
       "      <td>...</td>\n",
       "      <td>159.10</td>\n",
       "      <td>1949.0</td>\n",
       "      <td>0.1188</td>\n",
       "      <td>0.3449</td>\n",
       "      <td>0.3414</td>\n",
       "      <td>0.2032</td>\n",
       "      <td>0.4334</td>\n",
       "      <td>0.09067</td>\n",
       "      <td>2.5</td>\n",
       "      <td>0</td>\n",
       "    </tr>\n",
       "    <tr>\n",
       "      <th>3</th>\n",
       "      <td>843483</td>\n",
       "      <td>1.0</td>\n",
       "      <td>123</td>\n",
       "      <td>11.42</td>\n",
       "      <td>20.38</td>\n",
       "      <td>77.58</td>\n",
       "      <td>386.1</td>\n",
       "      <td>0.14250</td>\n",
       "      <td>0.2839</td>\n",
       "      <td>0.2414</td>\n",
       "      <td>...</td>\n",
       "      <td>98.87</td>\n",
       "      <td>567.7</td>\n",
       "      <td>0.2098</td>\n",
       "      <td>0.8663</td>\n",
       "      <td>0.6869</td>\n",
       "      <td>0.2575</td>\n",
       "      <td>0.6638</td>\n",
       "      <td>0.17300</td>\n",
       "      <td>2.0</td>\n",
       "      <td>0</td>\n",
       "    </tr>\n",
       "    <tr>\n",
       "      <th>4</th>\n",
       "      <td>843584</td>\n",
       "      <td>1.0</td>\n",
       "      <td>27</td>\n",
       "      <td>20.29</td>\n",
       "      <td>14.34</td>\n",
       "      <td>135.10</td>\n",
       "      <td>1297.0</td>\n",
       "      <td>0.10030</td>\n",
       "      <td>0.1328</td>\n",
       "      <td>0.1980</td>\n",
       "      <td>...</td>\n",
       "      <td>152.20</td>\n",
       "      <td>1575.0</td>\n",
       "      <td>0.1374</td>\n",
       "      <td>0.2050</td>\n",
       "      <td>0.4000</td>\n",
       "      <td>0.1625</td>\n",
       "      <td>0.2364</td>\n",
       "      <td>0.07678</td>\n",
       "      <td>3.5</td>\n",
       "      <td>0</td>\n",
       "    </tr>\n",
       "  </tbody>\n",
       "</table>\n",
       "<p>5 rows × 35 columns</p>\n",
       "</div>"
      ],
      "text/plain": [
       "    ID No  Outcome  Time  Radius1  Texture1  Perimeter1   Area1  Smoothness1  \\\n",
       "0  119513      1.0    31    18.02     27.60      117.50  1013.0      0.09489   \n",
       "1    8423      1.0    61    17.99     10.38      122.80  1001.0      0.11840   \n",
       "2  842517      1.0   116    21.37     17.44      137.50  1373.0      0.08836   \n",
       "3  843483      1.0   123    11.42     20.38       77.58   386.1      0.14250   \n",
       "4  843584      1.0    27    20.29     14.34      135.10  1297.0      0.10030   \n",
       "\n",
       "   Compactness1  Concavity1         ...           Perimeter3   Area3  \\\n",
       "0        0.1036      0.1086         ...               139.70  1436.0   \n",
       "1        0.2776      0.3001         ...               184.60  2019.0   \n",
       "2        0.1189      0.1255         ...               159.10  1949.0   \n",
       "3        0.2839      0.2414         ...                98.87   567.7   \n",
       "4        0.1328      0.1980         ...               152.20  1575.0   \n",
       "\n",
       "   Smoothness3  Compactness3  Concavity3  ConcavePoints3  Symmetry3  \\\n",
       "0       0.1195        0.1926      0.3140          0.1170     0.2677   \n",
       "1       0.1622        0.6656      0.7119          0.2654     0.4601   \n",
       "2       0.1188        0.3449      0.3414          0.2032     0.4334   \n",
       "3       0.2098        0.8663      0.6869          0.2575     0.6638   \n",
       "4       0.1374        0.2050      0.4000          0.1625     0.2364   \n",
       "\n",
       "   FractalDim3  Tumor Diameter  Lymph Nodes Removed  \n",
       "0      0.08113             5.0                    5  \n",
       "1      0.11890             3.0                    2  \n",
       "2      0.09067             2.5                    0  \n",
       "3      0.17300             2.0                    0  \n",
       "4      0.07678             3.5                    0  \n",
       "\n",
       "[5 rows x 35 columns]"
      ]
     },
     "execution_count": 8,
     "metadata": {},
     "output_type": "execute_result"
    }
   ],
   "source": [
    "df.head()"
   ]
  },
  {
   "cell_type": "markdown",
   "metadata": {},
   "source": [
    "### Addressing Missing Values"
   ]
  },
  {
   "cell_type": "markdown",
   "metadata": {},
   "source": [
    "As mentioned previously, the WPBC dataset contains a lot of missing values (specifically in the **Lymph Nodes Removed** column). Data could be missing due to a variety of reasons. Primarily it could be due to\n",
    "1. Missing at Random - Propensity for a data point to be missing is not related to the missing data, but it is related to some of the observed data.  \n",
    "2. Missing Completely at Random - The fact that a certain value is missing has nothing to do with its hypothetical value and with the values of other variables. \n",
    "3. Missing not at Random - Two possible reasons are that the missing value depends on the hypothetical value (e.g. People with high salaries generally do not want to reveal their incomes in surveys) or missing value is dependent on some other variable’s value (e.g. Let’s assume that females generally don’t want to reveal their ages! Here the missing value in age variable is impacted by gender variable)\n",
    "\n",
    "In the first two cases, it is safe to remove the data with missing values depending upon their occurrences, while in the third case removing observations with missing values can produce a bias in the model. \n",
    "\n",
    "Ref: https://towardsdatascience.com/how-to-handle-missing-data-8646b18db0d4\n",
    "\n",
    "Since it could be hypothesised that the missing values in the Lymph Nodes removed columns are missing at random, we could address this issue by simply removing the record of those patients with missing values."
   ]
  },
  {
   "cell_type": "code",
   "execution_count": 9,
   "metadata": {},
   "outputs": [],
   "source": [
    "df = df.drop(df[df['Lymph Nodes Removed']=='?'].index)"
   ]
  },
  {
   "cell_type": "code",
   "execution_count": 10,
   "metadata": {},
   "outputs": [
    {
     "data": {
      "text/plain": [
       "1.0    166\n",
       "0.0     28\n",
       "Name: Outcome, dtype: int64"
      ]
     },
     "execution_count": 10,
     "metadata": {},
     "output_type": "execute_result"
    }
   ],
   "source": [
    "df['Outcome'].value_counts()"
   ]
  },
  {
   "cell_type": "markdown",
   "metadata": {},
   "source": [
    "### Features and Labels"
   ]
  },
  {
   "cell_type": "code",
   "execution_count": 11,
   "metadata": {},
   "outputs": [],
   "source": [
    "x_data = df.drop([\"ID No\",\"Outcome\"],axis=1)\n",
    "y_labels = df['Outcome']"
   ]
  },
  {
   "cell_type": "markdown",
   "metadata": {},
   "source": [
    "### Converting pandas DataFrame into numpy matrix"
   ]
  },
  {
   "cell_type": "code",
   "execution_count": 12,
   "metadata": {},
   "outputs": [],
   "source": [
    "x_data = x_data.as_matrix()\n",
    "y_labels = y_labels.as_matrix()"
   ]
  },
  {
   "cell_type": "markdown",
   "metadata": {},
   "source": [
    "### Train-Test Split"
   ]
  },
  {
   "cell_type": "code",
   "execution_count": 13,
   "metadata": {},
   "outputs": [],
   "source": [
    "from sklearn.model_selection import train_test_split"
   ]
  },
  {
   "cell_type": "code",
   "execution_count": 14,
   "metadata": {},
   "outputs": [],
   "source": [
    "X_train, X_test, y_train, y_test = train_test_split(x_data,y_labels,test_size=0.3,random_state=101)"
   ]
  },
  {
   "cell_type": "code",
   "execution_count": 15,
   "metadata": {},
   "outputs": [
    {
     "data": {
      "text/plain": [
       "array([[68, 14.19, 26.02, ..., 0.1061, 1.4, '0'],\n",
       "       [17, 19.71, 19.06, ..., 0.08621000000000001, 4.0, '15'],\n",
       "       [19, 19.55, 28.77, ..., 0.1005, 6.0, '15'],\n",
       "       ...,\n",
       "       [91, 13.77, 22.29, ..., 0.09333, 1.2, '0'],\n",
       "       [117, 15.85, 23.95, ..., 0.06287000000000001, 1.0, '0'],\n",
       "       [67, 20.51, 27.81, ..., 0.08327999999999999, 9.0, '24']],\n",
       "      dtype=object)"
      ]
     },
     "execution_count": 15,
     "metadata": {},
     "output_type": "execute_result"
    }
   ],
   "source": [
    "X_train"
   ]
  },
  {
   "cell_type": "markdown",
   "metadata": {},
   "source": [
    "### Normalise Data"
   ]
  },
  {
   "cell_type": "code",
   "execution_count": 16,
   "metadata": {},
   "outputs": [],
   "source": [
    "from sklearn.preprocessing import MinMaxScaler"
   ]
  },
  {
   "cell_type": "code",
   "execution_count": 17,
   "metadata": {},
   "outputs": [],
   "source": [
    "scaler = MinMaxScaler()"
   ]
  },
  {
   "cell_type": "code",
   "execution_count": 18,
   "metadata": {},
   "outputs": [
    {
     "name": "stderr",
     "output_type": "stream",
     "text": [
      "C:\\Users\\ash19\\Anaconda3\\lib\\site-packages\\sklearn\\utils\\validation.py:475: DataConversionWarning: Data with input dtype object was converted to float64 by MinMaxScaler.\n",
      "  warnings.warn(msg, DataConversionWarning)\n"
     ]
    }
   ],
   "source": [
    "scaled_x_train = scaler.fit_transform(X_train)\n",
    "scaled_x_test = scaler.transform(X_test)"
   ]
  },
  {
   "cell_type": "code",
   "execution_count": 19,
   "metadata": {},
   "outputs": [],
   "source": [
    "onehot_y_train = pd.get_dummies(y_train).as_matrix()"
   ]
  },
  {
   "cell_type": "markdown",
   "metadata": {},
   "source": [
    "### Defining the Network"
   ]
  },
  {
   "cell_type": "code",
   "execution_count": 20,
   "metadata": {},
   "outputs": [
    {
     "data": {
      "text/plain": [
       "(135, 33)"
      ]
     },
     "execution_count": 20,
     "metadata": {},
     "output_type": "execute_result"
    }
   ],
   "source": [
    "X_train.shape"
   ]
  },
  {
   "cell_type": "code",
   "execution_count": 21,
   "metadata": {},
   "outputs": [],
   "source": [
    "num_inputs = 33\n",
    "num_hidden1 = 30\n",
    "num_hidden2 = 30\n",
    "num_outputs = 2\n",
    "learning_rate = 0.003"
   ]
  },
  {
   "cell_type": "markdown",
   "metadata": {},
   "source": [
    "### Placeholders"
   ]
  },
  {
   "cell_type": "code",
   "execution_count": 22,
   "metadata": {},
   "outputs": [],
   "source": [
    "X = tf.placeholder(tf.float32,[None,num_inputs],name=\"X\")\n",
    "y_true = tf.placeholder(tf.float32,[None,num_outputs],name=\"Labels\")"
   ]
  },
  {
   "cell_type": "markdown",
   "metadata": {},
   "source": [
    "### Initialise Weights"
   ]
  },
  {
   "cell_type": "code",
   "execution_count": 23,
   "metadata": {},
   "outputs": [],
   "source": [
    "W1 = tf.Variable(tf.random_normal([num_inputs,num_hidden1],stddev=0.01),name=\"W1\")\n",
    "b1 = tf.Variable(tf.random_normal([num_hidden1],stddev=0.01),name=\"b1\")\n",
    "W2 = tf.Variable(tf.random_normal([num_hidden1,num_hidden2],stddev=0.01),name=\"W2\")\n",
    "b2 = tf.Variable(tf.random_normal([num_hidden2],stddev=0.01),name=\"b2\")\n",
    "W3 = tf.Variable(tf.random_normal([num_hidden2,num_outputs],stddev=0.01),name=\"W3\")\n",
    "b3 = tf.Variable(tf.random_normal([num_outputs],stddev=0.01),name=\"b3\")\n",
    "\n",
    "\n",
    "w1s = tf.summary.histogram(\"W1\",W1)\n",
    "b1s = tf.summary.histogram(\"b1\",b1)\n",
    "w2s = tf.summary.histogram(\"W2\",W2)\n",
    "b2s = tf.summary.histogram(\"b2\",b2)\n",
    "w3s = tf.summary.histogram(\"W3\",W3)\n",
    "b3s = tf.summary.histogram(\"b3\",b3)"
   ]
  },
  {
   "cell_type": "markdown",
   "metadata": {},
   "source": [
    "### Choose activation function"
   ]
  },
  {
   "cell_type": "code",
   "execution_count": 24,
   "metadata": {},
   "outputs": [],
   "source": [
    "actf = tf.nn.relu"
   ]
  },
  {
   "cell_type": "markdown",
   "metadata": {},
   "source": [
    "### Operation"
   ]
  },
  {
   "cell_type": "code",
   "execution_count": 25,
   "metadata": {},
   "outputs": [],
   "source": [
    "with tf.name_scope(\"NeuralNetwork\"):\n",
    "    O = tf.add(tf.matmul(X,W1),b1)\n",
    "    Z = actf(O)\n",
    "    Z = tf.nn.dropout(Z,0.25)\n",
    "    \n",
    "    O1 = tf.add(tf.matmul(Z,W2),b2)\n",
    "    Z1 = actf(O1)\n",
    "    Z1 = tf.nn.dropout(Z1,0.2)\n",
    "        \n",
    "    output = tf.add(tf.matmul(Z1,W3),b3)"
   ]
  },
  {
   "cell_type": "markdown",
   "metadata": {},
   "source": [
    "### Error Calculation"
   ]
  },
  {
   "cell_type": "code",
   "execution_count": 26,
   "metadata": {},
   "outputs": [],
   "source": [
    "with tf.name_scope(\"CrossEntropyError\"):\n",
    "    cost = tf.reduce_mean(tf.nn.softmax_cross_entropy_with_logits_v2(labels=y_true,logits=output))\n",
    "cs = tf.summary.scalar('cross_entropy_error',cost)"
   ]
  },
  {
   "cell_type": "markdown",
   "metadata": {},
   "source": [
    "### Accuracy Calculation"
   ]
  },
  {
   "cell_type": "code",
   "execution_count": 27,
   "metadata": {},
   "outputs": [],
   "source": [
    "with tf.name_scope('Accuracy'):\n",
    "    with tf.name_scope('correct_prediction'):\n",
    "        correct_prediction = tf.equal(tf.argmax(y_true, 1), tf.argmax(output, 1))\n",
    "    with tf.name_scope('accuracy'):\n",
    "        accuracy = tf.reduce_mean(tf.cast(correct_prediction, tf.float32))\n",
    "    acc = tf.summary.scalar('accuracy', accuracy)"
   ]
  },
  {
   "cell_type": "markdown",
   "metadata": {},
   "source": [
    "### Optimizer"
   ]
  },
  {
   "cell_type": "code",
   "execution_count": 28,
   "metadata": {},
   "outputs": [],
   "source": [
    "optimizer = tf.train.AdamOptimizer(learning_rate)\n",
    "train = optimizer.minimize(cost)"
   ]
  },
  {
   "cell_type": "code",
   "execution_count": 29,
   "metadata": {},
   "outputs": [],
   "source": [
    "predict = tf.argmax(output,axis=1)"
   ]
  },
  {
   "cell_type": "markdown",
   "metadata": {},
   "source": [
    "### Initialise Global Variables"
   ]
  },
  {
   "cell_type": "code",
   "execution_count": 30,
   "metadata": {},
   "outputs": [],
   "source": [
    "init = tf.global_variables_initializer()"
   ]
  },
  {
   "cell_type": "markdown",
   "metadata": {},
   "source": [
    "### Saving Model"
   ]
  },
  {
   "cell_type": "code",
   "execution_count": 31,
   "metadata": {},
   "outputs": [],
   "source": [
    "saver = tf.train.Saver()"
   ]
  },
  {
   "cell_type": "code",
   "execution_count": 32,
   "metadata": {},
   "outputs": [
    {
     "name": "stdout",
     "output_type": "stream",
     "text": [
      "Training Accuracy: 0.8666667\n",
      "Training Accuracy: 0.95555556\n",
      "Training Accuracy: 0.9851852\n",
      "Training Accuracy: 0.93333334\n",
      "Training Accuracy: 0.97037035\n",
      "Training Accuracy: 0.94814813\n",
      "Training Accuracy: 0.9777778\n",
      "Training Accuracy: 0.97037035\n",
      "Training Accuracy: 0.9259259\n",
      "Training Accuracy: 0.9851852\n"
     ]
    }
   ],
   "source": [
    "training_steps = 5000\n",
    "\n",
    "with tf.Session() as sess:\n",
    "    sess.run(init)\n",
    "    writer = tf.summary.FileWriter(\"Prognosis/Logs\",sess.graph)\n",
    "    summaries = tf.summary.merge([w1s,b1s,w2s,b2s,w3s,b3s,cs,acc])\n",
    "    for i in range(training_steps):\n",
    "        sess.run(train,feed_dict={X:scaled_x_train,y_true:onehot_y_train})\n",
    "        pred = sess.run(predict, feed_dict={X:scaled_x_train,y_true:onehot_y_train})\n",
    "        if i % 500 == 0:\n",
    "            \n",
    "            # Print out accuracy\n",
    "            correct_prediction = tf.equal(y_train, pred)\n",
    "            print(\"Training Accuracy:\",sess.run(tf.reduce_mean(tf.cast(correct_prediction, tf.float32))))\n",
    "            \n",
    "            s = sess.run(summaries,feed_dict={X:scaled_x_train,y_true:onehot_y_train})\n",
    "            writer.add_summary(s, global_step=i)\n",
    "        \n",
    "    # Get predictions\n",
    "    logits = output.eval(feed_dict={X:scaled_x_test})\n",
    "    preds = tf.argmax(logits,axis=1)\n",
    "    results = preds.eval()\n",
    "    writer.close()\n",
    "    saver.save(sess,'Prognosis/Models/my_base_model.ckpt')"
   ]
  },
  {
   "cell_type": "markdown",
   "metadata": {},
   "source": [
    "### Evaluating Performance on Test set"
   ]
  },
  {
   "cell_type": "code",
   "execution_count": 33,
   "metadata": {},
   "outputs": [
    {
     "name": "stdout",
     "output_type": "stream",
     "text": [
      "             precision    recall  f1-score   support\n",
      "\n",
      "          0       0.70      0.78      0.74         9\n",
      "          1       0.96      0.94      0.95        50\n",
      "\n",
      "avg / total       0.92      0.92      0.92        59\n",
      "\n"
     ]
    }
   ],
   "source": [
    "from sklearn.metrics import confusion_matrix,classification_report\n",
    "print(classification_report(results,y_test))"
   ]
  }
 ],
 "metadata": {
  "kernelspec": {
   "display_name": "Python 3",
   "language": "python",
   "name": "python3"
  },
  "language_info": {
   "codemirror_mode": {
    "name": "ipython",
    "version": 3
   },
   "file_extension": ".py",
   "mimetype": "text/x-python",
   "name": "python",
   "nbconvert_exporter": "python",
   "pygments_lexer": "ipython3",
   "version": "3.6.4"
  }
 },
 "nbformat": 4,
 "nbformat_minor": 2
}
